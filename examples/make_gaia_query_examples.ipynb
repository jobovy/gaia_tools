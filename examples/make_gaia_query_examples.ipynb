{
 "cells": [
  {
   "cell_type": "code",
   "execution_count": 1,
   "metadata": {
    "ExecuteTime": {
     "end_time": "2019-03-12T19:50:24.098511Z",
     "start_time": "2019-03-12T19:50:22.940493Z"
    }
   },
   "outputs": [
    {
     "name": "stdout",
     "output_type": "stream",
     "text": [
      "Created TAP+ (v1.0.1) - Connection:\n",
      "\tHost: gea.esac.esa.int\n",
      "\tUse HTTPS: False\n",
      "\tPort: 80\n",
      "\tSSL Port: 443\n"
     ]
    }
   ],
   "source": [
    "import numpy as np\n",
    "import sys; sys.path.insert(0, '../')\n",
    "from gaia_tools.query import make_query, make_simple_query\n",
    "import warnings; warnings.filterwarnings('ignore')"
   ]
  },
  {
   "cell_type": "markdown",
   "metadata": {},
   "source": [
    "# Simple Query\n"
   ]
  },
  {
   "cell_type": "markdown",
   "metadata": {},
   "source": [
    "This is a simple single-level query.\n",
    "\n"
   ]
  },
  {
   "cell_type": "markdown",
   "metadata": {},
   "source": [
    "## Default Columns"
   ]
  },
  {
   "cell_type": "code",
   "execution_count": 2,
   "metadata": {
    "ExecuteTime": {
     "end_time": "2019-03-12T19:55:02.685513Z",
     "start_time": "2019-03-12T19:55:01.903898Z"
    }
   },
   "outputs": [],
   "source": [
    "circle = \"\"\"\n",
    "--Selections: Cluster RA\n",
    "1=CONTAINS(POINT('ICRS',gaia.ra,gaia.dec),\n",
    "           CIRCLE('ICRS',{ra:.4f},{dec:.4f},{rad:.2f}))\n",
    "\"\"\".format(ra=230, dec=0, rad=4)"
   ]
  },
  {
   "cell_type": "code",
   "execution_count": 3,
   "metadata": {
    "ExecuteTime": {
     "end_time": "2019-03-12T19:55:02.685513Z",
     "start_time": "2019-03-12T19:55:01.903898Z"
    }
   },
   "outputs": [
    {
     "name": "stdout",
     "output_type": "stream",
     "text": [
      "--Data Columns:\n",
      "SELECT\n",
      "--GaiaDR2 Columns:\n",
      "gaia.source_id AS id,\n",
      "gaia.parallax AS prlx, gaia.parallax_error AS prlx_err,\n",
      "gaia.ra, gaia.ra_error AS ra_err,\n",
      "gaia.dec, gaia.dec_error AS dec_err,\n",
      "gaia.pmra, gaia.pmra_error AS pmra_err,\n",
      "gaia.pmdec, gaia.pmdec_error AS pmdec_err\n",
      "\n",
      "\n",
      "--SOURCE:\n",
      "FROM gaiadr2.gaia_source AS gaia\n",
      "\n",
      "--Selections:\n",
      "WHERE\n",
      "--Selections: Cluster RA\n",
      "1=CONTAINS(POINT('ICRS',gaia.ra,gaia.dec),\n",
      "           CIRCLE('ICRS',230.0000,0.0000,4.00))\n",
      "\n",
      "AND random_index < 10000\n",
      "\n",
      "--Ordering:\n",
      "ORDER BY\n",
      "gaia.parallax\n",
      "\n",
      "\n",
      "starting query @ m04d02h18m24s59\n",
      "Query finished.\n",
      "query finished @ m04d02h18m25s00\n"
     ]
    },
    {
     "data": {
      "text/html": [
       "<i>QTable masked=True length=5</i>\n",
       "<table id=\"table139997680646016\" class=\"table-striped table-bordered table-condensed\">\n",
       "<thead><tr><th>id</th><th>prlx</th><th>prlx_err</th><th>ra</th><th>ra_err</th><th>dec</th><th>dec_err</th><th>pmra</th><th>pmra_err</th><th>pmdec</th><th>pmdec_err</th></tr></thead>\n",
       "<thead><tr><th></th><th>mas</th><th>mas</th><th>deg</th><th>deg</th><th>deg</th><th>deg</th><th>mas / yr</th><th>mas / yr</th><th>mas / yr</th><th>mas / yr</th></tr></thead>\n",
       "<thead><tr><th>int64</th><th>float64</th><th>float64</th><th>float64</th><th>float64</th><th>float64</th><th>float64</th><th>float64</th><th>float64</th><th>float64</th><th>float64</th></tr></thead>\n",
       "<tr><td>4421854511258656512</td><td>1.2275574478067548</td><td>0.47971770270355213</td><td>228.8875273212023</td><td>0.47414322708214046</td><td>2.6766887835445843</td><td>0.4727195334587449</td><td>-1.086205413366316</td><td>0.8596805506822935</td><td>8.1358729037405</td><td>0.8617703124298011</td></tr>\n",
       "<tr><td>4421967451718550400</td><td>1.3590008052478864</td><td>0.41067570449898166</td><td>229.30428207922225</td><td>0.32917441643105966</td><td>3.504297860472648</td><td>0.30141853305113375</td><td>-15.617658856828964</td><td>0.69020127163748</td><td>-11.519501862147981</td><td>0.6119762121388062</td></tr>\n",
       "<tr><td>6336481490785920000</td><td>1.9709522874255738</td><td>1.4830800617599345</td><td>227.8835097013005</td><td>1.527311600754504</td><td>-3.008821326198841</td><td>1.2609050214395636</td><td>-18.116198677523734</td><td>4.053641595094551</td><td>-5.963363297817978</td><td>3.2724859878416246</td></tr>\n",
       "<tr><td>4422008786483604992</td><td>2.8061159372664246</td><td>0.28322948843882695</td><td>230.96828886161552</td><td>0.2202753669467863</td><td>2.776882655709402</td><td>0.20585757806277802</td><td>-10.545282269206211</td><td>0.4348205679710938</td><td>3.626420510413496</td><td>0.40995909534972347</td></tr>\n",
       "<tr><td>4422017415073107328</td><td>nan</td><td>nan</td><td>231.11830942674368</td><td>0.8840346540361825</td><td>2.9373577587788855</td><td>0.9947966063839209</td><td>nan</td><td>nan</td><td>nan</td><td>nan</td></tr>\n",
       "</table>"
      ],
      "text/plain": [
       "<QTable masked=True length=5>\n",
       "         id                prlx        ...      pmdec_err     \n",
       "                           mas         ...       mas / yr     \n",
       "       int64             float64       ...       float64      \n",
       "------------------- ------------------ ... -------------------\n",
       "4421854511258656512 1.2275574478067548 ...  0.8617703124298011\n",
       "4421967451718550400 1.3590008052478864 ...  0.6119762121388062\n",
       "6336481490785920000 1.9709522874255738 ...  3.2724859878416246\n",
       "4422008786483604992 2.8061159372664246 ... 0.40995909534972347\n",
       "4422017415073107328                nan ...                 nan"
      ]
     },
     "execution_count": 3,
     "metadata": {},
     "output_type": "execute_result"
    }
   ],
   "source": [
    "df = make_simple_query(\n",
    "    WHERE=circle,        # The WHERE part of the SQL\n",
    "    random_index=1e4,         # a shortcut to use the random_index in 'WHERE'\n",
    "    ORDERBY='gaia.parallax',  # setting the data ordering\n",
    "    pprint=True,              # print the query\n",
    "    do_query=True,            # perform the query using gaia_tools.query\n",
    "    local=False,              # whether to perform the query locally\n",
    "    units=True                # to fill in missing units from 'defaults' file\n",
    ")\n",
    "\n",
    "df"
   ]
  },
  {
   "cell_type": "markdown",
   "metadata": {},
   "source": [
    "The system also supports Pan-STARRS1 and 2MASS cross-matches using the `panstarrs1` and `twomass` keywords"
   ]
  },
  {
   "cell_type": "code",
   "execution_count": 4,
   "metadata": {
    "ExecuteTime": {
     "end_time": "2019-03-12T19:56:38.280004Z",
     "start_time": "2019-03-12T19:56:37.496527Z"
    }
   },
   "outputs": [
    {
     "name": "stdout",
     "output_type": "stream",
     "text": [
      "\n",
      "\n",
      "starting query @ m04d02h18m25s00\n",
      "Query finished.\n",
      "query finished @ m04d02h18m25s01\n"
     ]
    },
    {
     "data": {
      "text/html": [
       "<i>QTable masked=True length=2</i>\n",
       "<table id=\"table139996962197688\" class=\"table-striped table-bordered table-condensed\">\n",
       "<thead><tr><th>id</th><th>prlx</th><th>prlx_err</th><th>ra</th><th>ra_err</th><th>dec</th><th>dec_err</th><th>pmra</th><th>pmra_err</th><th>pmdec</th><th>pmdec_err</th><th>g</th><th>g_err</th><th>r</th><th>r_err</th><th>i</th><th>i_err</th><th>z</th><th>z_err</th><th>j</th><th>h</th><th>k</th></tr></thead>\n",
       "<thead><tr><th></th><th>mas</th><th>mas</th><th>deg</th><th>deg</th><th>deg</th><th>deg</th><th>mas / yr</th><th>mas / yr</th><th>mas / yr</th><th>mas / yr</th><th>mag</th><th>mag</th><th>mag</th><th>mag</th><th>mag</th><th>mag</th><th>mag</th><th>mag</th><th>mag</th><th>mag</th><th>mag</th></tr></thead>\n",
       "<thead><tr><th>int64</th><th>float64</th><th>float64</th><th>float64</th><th>float64</th><th>float64</th><th>float64</th><th>float64</th><th>float64</th><th>float64</th><th>float64</th><th>float64</th><th>float64</th><th>float64</th><th>float64</th><th>float64</th><th>float64</th><th>float64</th><th>float64</th><th>float32</th><th>float32</th><th>float32</th></tr></thead>\n",
       "<tr><td>4421854511258656512</td><td>1.2275574478067548</td><td>0.47971770270355213</td><td>228.8875273212023</td><td>0.47414322708214046</td><td>2.6766887835445843</td><td>0.4727195334587449</td><td>-1.086205413366316</td><td>0.8596805506822935</td><td>8.1358729037405</td><td>0.8617703124298011</td><td>20.7679004669189</td><td>0.0411490015685558</td><td>19.5503005981445</td><td>0.00723499990999699</td><td>18.4057998657227</td><td>0.00405299989506602</td><td>17.9002990722656</td><td>0.00269200000911951</td><td>16.5049991607666</td><td>15.90999984741211</td><td>15.385000228881836</td></tr>\n",
       "<tr><td>4422008786483604992</td><td>2.8061159372664246</td><td>0.28322948843882695</td><td>230.96828886161552</td><td>0.2202753669467863</td><td>2.776882655709402</td><td>0.20585757806277802</td><td>-10.545282269206211</td><td>0.4348205679710938</td><td>3.626420510413496</td><td>0.40995909534972347</td><td>20.4762001037598</td><td>0.0156880002468824</td><td>19.2593002319336</td><td>0.00898800045251846</td><td>17.861400604248</td><td>0.00322599988430738</td><td>17.2089996337891</td><td>0.0047889999113977</td><td>15.788000106811523</td><td>15.204000473022461</td><td>14.838000297546387</td></tr>\n",
       "</table>"
      ],
      "text/plain": [
       "<QTable masked=True length=2>\n",
       "         id                prlx        ...         h                  k         \n",
       "                           mas         ...        mag                mag        \n",
       "       int64             float64       ...      float32            float32      \n",
       "------------------- ------------------ ... ------------------ ------------------\n",
       "4421854511258656512 1.2275574478067548 ...  15.90999984741211 15.385000228881836\n",
       "4422008786483604992 2.8061159372664246 ... 15.204000473022461 14.838000297546387"
      ]
     },
     "execution_count": 4,
     "metadata": {},
     "output_type": "execute_result"
    }
   ],
   "source": [
    "df = make_simple_query(\n",
    "    WHERE=circle,        # The WHERE part of the SQL\n",
    "    random_index=1e4,         # a shortcut to use the random_index in 'WHERE'\n",
    "    ORDERBY='gaia.parallax',  # setting the data ordering\n",
    "    panstarrs1=True, twomass=True,\n",
    "    do_query=True,            # perform the query using gaia_tools.query\n",
    "    local=False,              # whether to perform the query locally\n",
    "    units=True                # to fill in missing units from 'defaults' file\n",
    ")\n",
    "\n",
    "df"
   ]
  },
  {
   "cell_type": "markdown",
   "metadata": {},
   "source": [
    "## Different Defaults\n",
    "\n",
    "If you want fewer default columns, this is an option through the `defaults` keyword."
   ]
  },
  {
   "cell_type": "code",
   "execution_count": 5,
   "metadata": {
    "ExecuteTime": {
     "end_time": "2019-03-12T19:57:28.418297Z",
     "start_time": "2019-03-12T19:57:27.178128Z"
    }
   },
   "outputs": [
    {
     "name": "stdout",
     "output_type": "stream",
     "text": [
      "\n",
      "\n",
      "starting query @ m04d02h18m25s01\n",
      "Query finished.\n",
      "query finished @ m04d02h18m25s01\n"
     ]
    },
    {
     "data": {
      "text/html": [
       "<i>QTable masked=True length=5</i>\n",
       "<table id=\"table139996959159968\" class=\"table-striped table-bordered table-condensed\">\n",
       "<thead><tr><th>id</th></tr></thead>\n",
       "<thead><tr><th>int64</th></tr></thead>\n",
       "<tr><td>4421854511258656512</td></tr>\n",
       "<tr><td>4421967451718550400</td></tr>\n",
       "<tr><td>6336481490785920000</td></tr>\n",
       "<tr><td>4422008786483604992</td></tr>\n",
       "<tr><td>4422017415073107328</td></tr>\n",
       "</table>"
      ],
      "text/plain": [
       "<QTable masked=True length=5>\n",
       "         id        \n",
       "       int64       \n",
       "-------------------\n",
       "4421854511258656512\n",
       "4421967451718550400\n",
       "6336481490785920000\n",
       "4422008786483604992\n",
       "4422017415073107328"
      ]
     },
     "execution_count": 5,
     "metadata": {},
     "output_type": "execute_result"
    }
   ],
   "source": [
    "df = make_simple_query(\n",
    "    WHERE=circle, random_index=1e4, ORDERBY='gaia.parallax',\n",
    "    do_query=True, local=False, units=True,\n",
    "    defaults='empty', \n",
    ")\n",
    "\n",
    "df"
   ]
  },
  {
   "cell_type": "markdown",
   "metadata": {},
   "source": [
    "Likewise, there's an option for much greater detail."
   ]
  },
  {
   "cell_type": "code",
   "execution_count": 6,
   "metadata": {
    "ExecuteTime": {
     "end_time": "2019-03-12T19:58:56.124645Z",
     "start_time": "2019-03-12T19:58:56.089599Z"
    },
    "scrolled": false
   },
   "outputs": [
    {
     "name": "stdout",
     "output_type": "stream",
     "text": [
      "\n",
      "\n",
      "starting query @ m04d02h18m25s01\n",
      "Query finished.\n",
      "query finished @ m04d02h18m25s02\n"
     ]
    },
    {
     "data": {
      "text/html": [
       "<i>QTable masked=True length=5</i>\n",
       "<table id=\"table139996962197576\" class=\"table-striped table-bordered table-condensed\">\n",
       "<thead><tr><th>id</th><th>ref_epoch</th><th>prlx</th><th>prlx_err</th><th>ra</th><th>ra_err</th><th>dec</th><th>dec_err</th><th>pmra</th><th>pmra_err</th><th>pmdec</th><th>pmdec_err</th><th>rvel</th><th>rvel_err</th><th>l</th><th>b</th><th>ecl_lon</th><th>ecl_lat</th></tr></thead>\n",
       "<thead><tr><th></th><th>yr</th><th>mas</th><th>mas</th><th>deg</th><th>deg</th><th>deg</th><th>deg</th><th>mas / yr</th><th>mas / yr</th><th>mas / yr</th><th>mas / yr</th><th>km / s</th><th>km / s</th><th>deg</th><th>deg</th><th>deg</th><th>deg</th></tr></thead>\n",
       "<thead><tr><th>int64</th><th>float64</th><th>float64</th><th>float64</th><th>float64</th><th>float64</th><th>float64</th><th>float64</th><th>float64</th><th>float64</th><th>float64</th><th>float64</th><th>float64</th><th>float64</th><th>float64</th><th>float64</th><th>float64</th><th>float64</th></tr></thead>\n",
       "<tr><td>4421854511258656512</td><td>2015.5</td><td>1.2275574478067548</td><td>0.47971770270355213</td><td>228.8875273212023</td><td>0.47414322708214046</td><td>2.6766887835445843</td><td>0.4727195334587449</td><td>-1.086205413366316</td><td>0.8596805506822935</td><td>8.1358729037405</td><td>0.8617703124298011</td><td>nan</td><td>nan</td><td>3.848132547687008</td><td>47.75429241848735</td><td>225.65099212892665</td><td>20.01174691229745</td></tr>\n",
       "<tr><td>4421967451718550400</td><td>2015.5</td><td>1.3590008052478864</td><td>0.41067570449898166</td><td>229.30428207922225</td><td>0.32917441643105966</td><td>3.504297860472648</td><td>0.30141853305113375</td><td>-15.617658856828964</td><td>0.69020127163748</td><td>-11.519501862147981</td><td>0.6119762121388062</td><td>nan</td><td>nan</td><td>5.199902605104458</td><td>47.94185070637154</td><td>225.83207814826355</td><td>20.92242336503168</td></tr>\n",
       "<tr><td>6336481490785920000</td><td>2015.5</td><td>1.9709522874255738</td><td>1.4830800617599345</td><td>227.8835097013005</td><td>1.527311600754504</td><td>-3.008821326198841</td><td>1.2609050214395636</td><td>-18.116198677523734</td><td>4.053641595094551</td><td>-5.963363297817978</td><td>3.2724859878416246</td><td>nan</td><td>nan</td><td>356.7225516888186</td><td>44.73931290031377</td><td>226.28760395945173</td><td>14.270443215122377</td></tr>\n",
       "<tr><td>4422008786483604992</td><td>2015.5</td><td>2.8061159372664246</td><td>0.28322948843882695</td><td>230.96828886161552</td><td>0.2202753669467863</td><td>2.776882655709402</td><td>0.20585757806277802</td><td>-10.545282269206211</td><td>0.4348205679710938</td><td>3.626420510413496</td><td>0.40995909534972347</td><td>nan</td><td>nan</td><td>5.846380077001391</td><td>46.18235257154016</td><td>227.75425415624437</td><td>20.675724379475792</td></tr>\n",
       "<tr><td>4422017415073107328</td><td>2015.5</td><td>nan</td><td>nan</td><td>231.11830942674368</td><td>0.8840346540361825</td><td>2.9373577587788855</td><td>0.9947966063839209</td><td>nan</td><td>nan</td><td>nan</td><td>nan</td><td>nan</td><td>nan</td><td>6.161884327807021</td><td>46.16076695196851</td><td>227.86275770664682</td><td>20.87043033203375</td></tr>\n",
       "</table>"
      ],
      "text/plain": [
       "<QTable masked=True length=5>\n",
       "         id         ref_epoch ...      ecl_lon            ecl_lat      \n",
       "                        yr    ...        deg                deg        \n",
       "       int64         float64  ...      float64            float64      \n",
       "------------------- --------- ... ------------------ ------------------\n",
       "4421854511258656512    2015.5 ... 225.65099212892665  20.01174691229745\n",
       "4421967451718550400    2015.5 ... 225.83207814826355  20.92242336503168\n",
       "6336481490785920000    2015.5 ... 226.28760395945173 14.270443215122377\n",
       "4422008786483604992    2015.5 ... 227.75425415624437 20.675724379475792\n",
       "4422017415073107328    2015.5 ... 227.86275770664682  20.87043033203375"
      ]
     },
     "execution_count": 6,
     "metadata": {},
     "output_type": "execute_result"
    }
   ],
   "source": [
    "df = make_simple_query(\n",
    "    WHERE=circle, random_index=1e4, ORDERBY='gaia.parallax',\n",
    "    do_query=True, local=False, units=True,\n",
    "    defaults='full'\n",
    ")\n",
    "\n",
    "df"
   ]
  },
  {
   "cell_type": "markdown",
   "metadata": {},
   "source": [
    "<br><br><br><br>\n",
    "- - -\n",
    "- - -\n",
    "<br><br><br><br>"
   ]
  },
  {
   "cell_type": "markdown",
   "metadata": {},
   "source": [
    "# Complex Nested Query"
   ]
  },
  {
   "cell_type": "markdown",
   "metadata": {},
   "source": [
    "A complex query like this one shows the real utility of this package.\n",
    "Instead of keeping track of the complex SQL, we only need to pay close attention to the custom calculated columns.\n",
    "\n",
    "This ADQL queries for data within a rectangular area on a sky rotated by a rotation matrix and specified North Galactic Pole angles. The specifics aren't important -- the real takeaway is that the sky rotation and calculation are written in a clear format, with all the parts of the query close together. Running the query is trivial after that."
   ]
  },
  {
   "cell_type": "code",
   "execution_count": 7,
   "metadata": {
    "ExecuteTime": {
     "end_time": "2019-03-12T20:00:32.577746Z",
     "start_time": "2019-03-12T20:00:30.935705Z"
    },
    "scrolled": false
   },
   "outputs": [
    {
     "name": "stdout",
     "output_type": "stream",
     "text": [
      "--Data Columns:\n",
      "SELECT\n",
      "--GaiaDR2 Columns:\n",
      "gaia.source_id AS id,\n",
      "gaia.parallax AS prlx, gaia.parallax_error AS prlx_err,\n",
      "gaia.ra, gaia.ra_error AS ra_err,\n",
      "gaia.dec, gaia.dec_error AS dec_err,\n",
      "gaia.pmra, gaia.pmra_error AS pmra_err,\n",
      "gaia.pmdec, gaia.pmdec_error AS pmdec_err,\n",
      "--GaiaDR2 Magnitudes and Colors:\n",
      "gaia.phot_bp_mean_mag AS Gbp,\n",
      "gaia.phot_bp_mean_flux_over_error AS Gbpfluxfracerr,\n",
      "gaia.phot_rp_mean_mag AS Grp,\n",
      "gaia.phot_rp_mean_flux_over_error AS Grpfluxfracerr,\n",
      "gaia.phot_g_mean_mag AS Gg,\n",
      "gaia.phot_g_mean_flux_over_error AS Ggfluxfracerr,\n",
      "gaia.bp_rp AS Gbp_rp, gaia.bp_g AS Gbp_g, gaia.g_rp AS Gg_rp,\n",
      "--Adding Pan-STARRS1 Columns:\n",
      "panstarrs1.g_mean_psf_mag AS g, panstarrs1.g_mean_psf_mag_error AS g_err,\n",
      "panstarrs1.r_mean_psf_mag AS r, panstarrs1.r_mean_psf_mag_error AS r_err,\n",
      "panstarrs1.i_mean_psf_mag AS i, panstarrs1.i_mean_psf_mag_error AS i_err,\n",
      "panstarrs1.z_mean_psf_mag AS z, panstarrs1.z_mean_psf_mag_error AS z_err,\n",
      "\n",
      "--Custom Selection & Assignement:\n",
      "gaia.phi1, gaia.phi2,\n",
      "gaia.pmphi1, gaia.pmphi2\n",
      "\n",
      "--SOURCE:\n",
      "FROM (\n",
      "    --Data Columns:\n",
      "    SELECT\n",
      "    --GaiaDR2 Columns:\n",
      "    gaia.source_id,\n",
      "    gaia.parallax, gaia.parallax_error,\n",
      "    gaia.ra, gaia.ra_error,\n",
      "    gaia.dec, gaia.dec_error,\n",
      "    gaia.pmra, gaia.pmra_error,\n",
      "    gaia.pmdec, gaia.pmdec_error,\n",
      "    --GaiaDR2 Magnitudes and Colors:\n",
      "    gaia.phot_bp_mean_mag,\n",
      "    gaia.phot_bp_mean_flux_over_error,\n",
      "    gaia.phot_rp_mean_mag,\n",
      "    gaia.phot_rp_mean_flux_over_error,\n",
      "    gaia.phot_g_mean_mag,\n",
      "    gaia.phot_g_mean_flux_over_error,\n",
      "    gaia.bp_rp, gaia.bp_g, gaia.g_rp,\n",
      "    \n",
      "    --Custom Selection & Assignement:\n",
      "    gaia.sinphi1cosphi2, gaia.cosphi1cosphi2, gaia.sinphi2,\n",
      "    gaia.phi1, gaia.phi2,\n",
      "    gaia.c1, gaia.c2,\n",
      "    \n",
      "    ( c1*pmra+c2*pmdec)/cos(phi2) AS pmphi1,\n",
      "    (-c2*pmra+c1*pmdec)/cos(phi2) AS pmphi2\n",
      "    \n",
      "    --SOURCE:\n",
      "    FROM (\n",
      "        --Data Columns:\n",
      "        SELECT\n",
      "        --GaiaDR2 Columns:\n",
      "        gaia.source_id,\n",
      "        gaia.parallax, gaia.parallax_error,\n",
      "        gaia.ra, gaia.ra_error,\n",
      "        gaia.dec, gaia.dec_error,\n",
      "        gaia.pmra, gaia.pmra_error,\n",
      "        gaia.pmdec, gaia.pmdec_error,\n",
      "        --GaiaDR2 Magnitudes and Colors:\n",
      "        gaia.phot_bp_mean_mag,\n",
      "        gaia.phot_bp_mean_flux_over_error,\n",
      "        gaia.phot_rp_mean_mag,\n",
      "        gaia.phot_rp_mean_flux_over_error,\n",
      "        gaia.phot_g_mean_mag,\n",
      "        gaia.phot_g_mean_flux_over_error,\n",
      "        gaia.bp_rp, gaia.bp_g, gaia.g_rp,\n",
      "        \n",
      "        --Custom Selection & Assignement:\n",
      "        gaia.cosphi1cosphi2, gaia.sinphi1cosphi2, gaia.sinphi2,\n",
      "        gaia.c1, gaia.c2,\n",
      "        \n",
      "        atan2(sinphi1cosphi2, cosphi1cosphi2) AS phi1,\n",
      "        atan2(sinphi2, sinphi1cosphi2 / sin(atan2(sinphi1cosphi2, cosphi1cosphi2))) AS phi2\n",
      "        \n",
      "        --SOURCE:\n",
      "        FROM (\n",
      "            --Data Columns:\n",
      "            SELECT\n",
      "            --GaiaDR2 Columns:\n",
      "            gaia.source_id,\n",
      "            gaia.parallax, gaia.parallax_error,\n",
      "            gaia.ra, gaia.ra_error,\n",
      "            gaia.dec, gaia.dec_error,\n",
      "            gaia.pmra, gaia.pmra_error,\n",
      "            gaia.pmdec, gaia.pmdec_error,\n",
      "            --GaiaDR2 Magnitudes and Colors:\n",
      "            gaia.phot_bp_mean_mag,\n",
      "            gaia.phot_bp_mean_flux_over_error,\n",
      "            gaia.phot_rp_mean_mag,\n",
      "            gaia.phot_rp_mean_flux_over_error,\n",
      "            gaia.phot_g_mean_mag,\n",
      "            gaia.phot_g_mean_flux_over_error,\n",
      "            gaia.bp_rp, gaia.bp_g, gaia.g_rp,\n",
      "            \n",
      "            --Custom Selection & Assignement:\n",
      "            --Rotation Matrix\n",
      "            0.656*cos(radians(dec))*cos(radians(ra))+\n",
      "            0.755*cos(radians(dec))*sin(radians(ra))+\n",
      "            0.002*sin(radians(dec)) AS cosphi1cosphi2,\n",
      "            \n",
      "            0.701*cos(radians(dec))*cos(radians(ra))+\n",
      "            0.469*cos(radians(dec))*sin(radians(ra))+\n",
      "            0.537*sin(radians(dec)) AS sinphi1cosphi2,\n",
      "            \n",
      "            0.53*cos(radians(dec))*cos(radians(ra))+\n",
      "            0.458*cos(radians(dec))*sin(radians(ra))+\n",
      "            0.713*sin(radians(dec)) AS sinphi2,\n",
      "            \n",
      "            --c1, c2\n",
      "            -0.925*cos(radians(dec))-0.382*sin(radians(dec))*cos(radians(ra+0)) as c1,\n",
      "            0.382*sin(radians(ra+0)) as c2\n",
      "            \n",
      "            \n",
      "            --SOURCE:\n",
      "            FROM gaiadr2.gaia_source AS gaia\n",
      "            \n",
      "            --Selections:\n",
      "            WHERE\n",
      "            random_index <= 10000\n",
      "        ) AS gaia\n",
      "    ) AS gaia\n",
      ") AS gaia\n",
      "\n",
      "--Comparing to Pan-STARRS1\n",
      "INNER JOIN gaiadr2.panstarrs1_best_neighbour AS panstarrs1_match ON panstarrs1_match.source_id = gaia.source_id\n",
      "INNER JOIN gaiadr2.panstarrs1_original_valid AS panstarrs1 ON panstarrs1.obj_id = panstarrs1_match.original_ext_source_id\n",
      "\n",
      "--Selections:\n",
      "WHERE\n",
      "    phi1 > -0.175\n",
      "AND phi1 < +0.175\n",
      "AND phi2 > -0.175\n",
      "AND phi2 < +0.175\n",
      "\n",
      "\n",
      "--Ordering:\n",
      "ORDER BY\n",
      "gaia.source_id\n",
      "\n",
      "\n",
      "starting query @ m04d02h18m25s02\n",
      "Query finished.\n",
      "query finished @ m04d02h18m25s04\n"
     ]
    },
    {
     "data": {
      "text/html": [
       "<i>QTable masked=True length=71</i>\n",
       "<table id=\"table139996969147640\" class=\"table-striped table-bordered table-condensed\">\n",
       "<thead><tr><th>id</th><th>prlx</th><th>prlx_err</th><th>ra</th><th>ra_err</th><th>dec</th><th>dec_err</th><th>pmra</th><th>pmra_err</th><th>pmdec</th><th>pmdec_err</th><th>gbp</th><th>gbpfluxfracerr</th><th>grp</th><th>grpfluxfracerr</th><th>gg</th><th>ggfluxfracerr</th><th>gbp_rp</th><th>gbp_g</th><th>gg_rp</th><th>g</th><th>g_err</th><th>r</th><th>r_err</th><th>i</th><th>i_err</th><th>z</th><th>z_err</th><th>phi1</th><th>phi2</th><th>pmphi1</th><th>pmphi2</th></tr></thead>\n",
       "<thead><tr><th></th><th>mas</th><th>mas</th><th>deg</th><th>deg</th><th>deg</th><th>deg</th><th>mas / yr</th><th>mas / yr</th><th>mas / yr</th><th>mas / yr</th><th>mag</th><th></th><th>mag</th><th></th><th>mag</th><th></th><th>mag</th><th>mag</th><th>mag</th><th>mag</th><th>mag</th><th>mag</th><th>mag</th><th>mag</th><th>mag</th><th>mag</th><th>mag</th><th>rad</th><th>rad</th><th>mas / yr</th><th>mas / yr</th></tr></thead>\n",
       "<thead><tr><th>int64</th><th>float64</th><th>float64</th><th>float64</th><th>float64</th><th>float64</th><th>float64</th><th>float64</th><th>float64</th><th>float64</th><th>float64</th><th>float32</th><th>float32</th><th>float32</th><th>float32</th><th>float32</th><th>float32</th><th>float32</th><th>float32</th><th>float32</th><th>float64</th><th>float64</th><th>float64</th><th>float64</th><th>float64</th><th>float64</th><th>float64</th><th>float64</th><th>float64</th><th>float64</th><th>float64</th><th>float64</th></tr></thead>\n",
       "<tr><td>2889564322129077376</td><td>0.3213177028021399</td><td>0.14088071404071692</td><td>89.852456363208</td><td>0.11092118907771961</td><td>-33.48788512061472</td><td>0.11905868588217561</td><td>-1.2001158428613647</td><td>0.2315703839344539</td><td>1.2068512160421232</td><td>0.2607473500694008</td><td>19.02077865600586</td><td>45.648506</td><td>17.74642562866211</td><td>108.068665</td><td>18.4609375</td><td>579.4508</td><td>1.27435302734375</td><td>0.5598411560058594</td><td>0.7145118713378906</td><td>nan</td><td>nan</td><td>nan</td><td>nan</td><td>18.1292991638184</td><td>0.00695599988102913</td><td>nan</td><td>nan</td><td>0.15177566486787875</td><td>-0.01615296804383597</td><td>1.3863772679241089</td><td>-0.4719919761842213</td></tr>\n",
       "<tr><td>2889585036754358016</td><td>0.04112782798721501</td><td>0.3536404789521579</td><td>89.64273223729039</td><td>0.27550035439516946</td><td>-33.289729121056816</td><td>0.28568865747042466</td><td>3.6201024391883885</td><td>0.5441884680409558</td><td>8.104449717308881</td><td>0.5891796623791259</td><td>20.448328018188477</td><td>11.592497</td><td>18.59687614440918</td><td>50.61768</td><td>19.61026382446289</td><td>280.3479</td><td>1.8514518737792969</td><td>0.8380641937255859</td><td>1.013387680053711</td><td>nan</td><td>nan</td><td>nan</td><td>nan</td><td>18.9641990661621</td><td>0.00823699962347746</td><td>nan</td><td>nan</td><td>0.15803067899348286</td><td>-0.008958985863537603</td><td>0.30147490786345243</td><td>-7.639027705679244</td></tr>\n",
       "<tr><td>2893531497522278528</td><td>0.2790765324906976</td><td>0.08843655423377134</td><td>95.69721841841746</td><td>0.06532838745037702</td><td>-30.50242870308282</td><td>0.0870745768550069</td><td>1.7096027371956273</td><td>0.14042939660904843</td><td>2.665564779495171</td><td>0.16040499468271435</td><td>17.70775032043457</td><td>156.32576</td><td>16.725849151611328</td><td>162.56195</td><td>17.290735244750977</td><td>1074.5438</td><td>0.9819011688232422</td><td>0.41701507568359375</td><td>0.5648860931396484</td><td>17.7226009368896</td><td>0.0102749997749925</td><td>17.2467002868652</td><td>0.00498000020161271</td><td>17.0774002075195</td><td>0.00384699995629489</td><td>17.0198993682861</td><td>0.00342700001783669</td><td>0.11734124245859556</td><td>-0.024506749257727892</td><td>-0.3823366779230443</td><td>-2.8264187687608446</td></tr>\n",
       "<tr><td>2894277580582639616</td><td>-0.03565140127821627</td><td>0.38379135803464853</td><td>100.83588017948506</td><td>0.2746167229986943</td><td>-30.39519893204269</td><td>0.354504804621474</td><td>0.4595450174632992</td><td>0.5981503040659448</td><td>1.8037089064425966</td><td>0.6497080038713873</td><td>20.135364532470703</td><td>12.897309</td><td>19.291885375976562</td><td>18.578547</td><td>19.889904022216797</td><td>231.50648</td><td>0.8434791564941406</td><td>0.24546051025390625</td><td>0.5980186462402344</td><td>20.1900005340576</td><td>0.0153510002419353</td><td>19.7777004241943</td><td>0.0170040000230074</td><td>19.6713008880615</td><td>0.010308999568224</td><td>19.6107006072998</td><td>0.057473998516798</td><td>0.022452761935390815</td><td>-0.10979523300038331</td><td>0.29515634154001114</td><td>-1.687229325064532</td></tr>\n",
       "<tr><td>2894301117005191936</td><td>-0.31822723307621215</td><td>0.596439798077345</td><td>100.55360000898901</td><td>0.37529189714934463</td><td>-30.06129384733782</td><td>0.5133368686502483</td><td>1.2125908967513244</td><td>0.7750190783329641</td><td>3.328302233757119</td><td>0.88877917171463</td><td>nan</td><td>--</td><td>nan</td><td>--</td><td>20.133920669555664</td><td>161.91643</td><td>nan</td><td>nan</td><td>nan</td><td>20.9354000091553</td><td>0.0813969969749451</td><td>19.886100769043</td><td>0.00134299998171628</td><td>19.3973999023438</td><td>0.0328940004110336</td><td>19.2562999725342</td><td>0.0201140008866787</td><td>0.0352089498571001</td><td>-0.095456026639865</td><td>0.23771429243865633</td><td>-3.251390885692647</td></tr>\n",
       "<tr><td>2918472063373495936</td><td>0.07540631742850838</td><td>0.018291002548211636</td><td>101.29860970041581</td><td>0.012077191412722404</td><td>-28.707030693978805</td><td>0.016833066274518332</td><td>-0.7198628622013465</td><td>0.024939448508541573</td><td>1.3504572377243913</td><td>0.031049207460582387</td><td>14.951737403869629</td><td>588.6317</td><td>13.43400764465332</td><td>949.3284</td><td>14.241029739379883</td><td>4129.2656</td><td>1.5177297592163086</td><td>0.7107076644897461</td><td>0.8070220947265625</td><td>15.145299911499</td><td>0.00218899990431964</td><td>14.2363004684448</td><td>0.00301899993792176</td><td>13.8430995941162</td><td>0.00734200002625585</td><td>13.6037998199463</td><td>0.00123199995141476</td><td>0.0466047869519749</td><td>-0.07376865860472206</td><td>1.1188268142430042</td><td>-0.8769080774380797</td></tr>\n",
       "<tr><td>2918550644092742272</td><td>0.6273189056681521</td><td>0.782697310231922</td><td>101.576417046875</td><td>0.4883607934153599</td><td>-28.75376229315029</td><td>0.6028598697415664</td><td>2.6738991917543244</td><td>1.0275467338132094</td><td>6.671298858722015</td><td>0.965939827384999</td><td>21.0629825592041</td><td>5.76543</td><td>19.29847526550293</td><td>22.061457</td><td>20.290245056152344</td><td>153.97742</td><td>1.7645072937011719</td><td>0.7727375030517578</td><td>0.9917697906494141</td><td>21.4979991912842</td><td>0.0714500024914742</td><td>20.3416004180908</td><td>0.024184999987483</td><td>19.6637001037598</td><td>0.0140500003471971</td><td>19.3367004394531</td><td>0.00980699993669987</td><td>0.03974239084528264</td><td>-0.0803368883690285</td><td>0.230356235609403</td><td>-6.678244300414476</td></tr>\n",
       "<tr><td>2921155417204886656</td><td>0.5746644074889986</td><td>0.08445267418651484</td><td>105.41909619530594</td><td>0.05031977808843377</td><td>-25.682389169566108</td><td>0.06735360382631876</td><td>-4.226561826565594</td><td>0.11833640014430594</td><td>5.09270444640058</td><td>0.14763444560101693</td><td>17.961925506591797</td><td>140.4744</td><td>16.735219955444336</td><td>299.11694</td><td>17.42011833190918</td><td>1250.0464</td><td>1.226705551147461</td><td>0.5418071746826172</td><td>0.6848983764648438</td><td>18.0634994506836</td><td>0.00478299986571074</td><td>17.3682994842529</td><td>0.00644299993291497</td><td>17.0844993591309</td><td>0.00258899992331862</td><td>16.9799995422363</td><td>0.00467999977990985</td><td>0.013578261560780708</td><td>-0.07636497260950607</td><td>5.601098258390017</td><td>-2.9216216680014737</td></tr>\n",
       "<tr><td>2921254824222946560</td><td>nan</td><td>nan</td><td>105.45364770475886</td><td>1.5353938308434325</td><td>-25.156187892381006</td><td>3.0021763612415984</td><td>nan</td><td>nan</td><td>nan</td><td>nan</td><td>nan</td><td>--</td><td>nan</td><td>--</td><td>21.188934326171875</td><td>39.210197</td><td>nan</td><td>nan</td><td>nan</td><td>21.6951999664307</td><td>0.0274010002613068</td><td>21.1583003997803</td><td>0.0783889964222908</td><td>20.7777004241943</td><td>0.0526469983160496</td><td>20.3808994293213</td><td>0.0821679979562759</td><td>0.02366494168491069</td><td>-0.06263618141108063</td><td>nan</td><td>nan</td></tr>\n",
       "<tr><td>...</td><td>...</td><td>...</td><td>...</td><td>...</td><td>...</td><td>...</td><td>...</td><td>...</td><td>...</td><td>...</td><td>...</td><td>...</td><td>...</td><td>...</td><td>...</td><td>...</td><td>...</td><td>...</td><td>...</td><td>...</td><td>...</td><td>...</td><td>...</td><td>...</td><td>...</td><td>...</td><td>...</td><td>...</td><td>...</td><td>...</td><td>...</td></tr>\n",
       "<tr><td>5617824614809288448</td><td>nan</td><td>nan</td><td>110.32374750844698</td><td>6.951827359874592</td><td>-23.753915962728144</td><td>24.62950700482992</td><td>nan</td><td>nan</td><td>nan</td><td>nan</td><td>nan</td><td>--</td><td>nan</td><td>--</td><td>21.25697898864746</td><td>35.90056</td><td>nan</td><td>nan</td><td>nan</td><td>nan</td><td>nan</td><td>nan</td><td>nan</td><td>nan</td><td>nan</td><td>19.9337005615234</td><td>0.0422349981963634</td><td>-0.08326974542837035</td><td>-0.14123429085914144</td><td>nan</td><td>nan</td></tr>\n",
       "<tr><td>5716319343168601984</td><td>0.00891932562417943</td><td>0.32249764384296475</td><td>113.8449285398122</td><td>0.17527935331251243</td><td>-19.831153317243455</td><td>0.2097809204129951</td><td>-1.8414838357550458</td><td>0.3654637676096973</td><td>3.059905229311206</td><td>0.4182655166461923</td><td>19.982688903808594</td><td>16.042042</td><td>18.183589935302734</td><td>73.96526</td><td>19.202526092529297</td><td>305.97357</td><td>1.7990989685058594</td><td>0.7801628112792969</td><td>1.0189361572265625</td><td>20.4745998382568</td><td>0.00448699994012713</td><td>19.30419921875</td><td>0.00819799955934286</td><td>18.6509990692139</td><td>0.00695599988102913</td><td>18.2353000640869</td><td>0.00467400019988418</td><td>-0.11275120160619438</td><td>-0.12220620260575656</td><td>2.7887407808022315</td><td>-2.195840085641799</td></tr>\n",
       "<tr><td>5716331884473420288</td><td>0.22620316092151485</td><td>0.17322687090898847</td><td>113.80574814975832</td><td>0.09887099797690528</td><td>-19.614712766649596</td><td>0.11875267379782026</td><td>-0.5070317383471483</td><td>0.20344190762645756</td><td>2.0554804581298383</td><td>0.22704514474823018</td><td>19.048534393310547</td><td>57.282116</td><td>17.542325973510742</td><td>112.94717</td><td>18.379186630249023</td><td>718.77655</td><td>1.5062084197998047</td><td>0.6693477630615234</td><td>0.8368606567382812</td><td>19.2621994018555</td><td>0.0116950003430247</td><td>18.3866996765137</td><td>0.00251700007356703</td><td>17.9447994232178</td><td>0.00509800016880035</td><td>17.7085990905762</td><td>0.0058079999871552</td><td>-0.10594716750434026</td><td>-0.11405298419542298</td><td>1.1941799874420582</td><td>-1.7314226039780316</td></tr>\n",
       "<tr><td>5716342505930123008</td><td>1.6799963583547786</td><td>1.684368158294499</td><td>114.59670230371695</td><td>1.481509623828627</td><td>-19.85817329294617</td><td>2.3862343665475154</td><td>-2.698591026092354</td><td>2.759489881104196</td><td>-3.970661671302836</td><td>4.1108367465889275</td><td>21.677921295166016</td><td>5.2099133</td><td>20.196521759033203</td><td>11.926287</td><td>20.944549560546875</td><td>83.01538</td><td>1.4813995361328125</td><td>0.7333717346191406</td><td>0.7480278015136719</td><td>22.0245990753174</td><td>0.155401006340981</td><td>20.9733009338379</td><td>0.0510450005531311</td><td>20.4349002838135</td><td>0.0269709993153811</td><td>20.0666999816895</td><td>0.0426100008189678</td><td>-0.1426585744466888</td><td>-0.14684869591413577</td><td>1.1264823454948139</td><td>4.656356865114376</td></tr>\n",
       "<tr><td>5716482418781721856</td><td>0.845175425917354</td><td>0.5176463449771443</td><td>113.20017086929828</td><td>0.27402870154885844</td><td>-19.874805635006815</td><td>0.3319031507958928</td><td>-0.5567428483626339</td><td>0.5636337966097791</td><td>0.23986932033781638</td><td>0.6650358739574248</td><td>20.6514949798584</td><td>14.917553</td><td>18.967361450195312</td><td>33.87558</td><td>19.978424072265625</td><td>239.35614</td><td>1.684133529663086</td><td>0.6730709075927734</td><td>1.0110626220703125</td><td>21.1802997589111</td><td>0.0294589996337891</td><td>20.0715007781982</td><td>0.018885999917984</td><td>19.4207992553711</td><td>0.0117110004648566</td><td>19.0484008789063</td><td>0.0121560003608465</td><td>-0.0899268303865569</td><td>-0.10401917431198268</td><td>0.6002613412553746</td><td>-0.025596093812586308</td></tr>\n",
       "<tr><td>5716500457648588544</td><td>-0.29611086187686</td><td>0.19294344402742866</td><td>113.06363498027248</td><td>0.11150535997642579</td><td>-19.697455798017586</td><td>0.13209044076450405</td><td>-1.989419980575689</td><td>0.22763735810184282</td><td>2.2584943079790594</td><td>0.26361414955694784</td><td>19.382585525512695</td><td>40.338978</td><td>17.835725784301758</td><td>104.02747</td><td>18.657146453857422</td><td>710.47925</td><td>1.5468597412109375</td><td>0.7254390716552734</td><td>0.8214206695556641</td><td>19.5487003326416</td><td>0.00901299994438887</td><td>18.6933002471924</td><td>0.00752699980512261</td><td>18.2212009429932</td><td>0.0055669997818768</td><td>17.9498996734619</td><td>0.011489000171423</td><td>-0.08073320654888885</td><td>-0.09436902590357464</td><td>2.6384059729209275</td><td>-1.3877420505238705</td></tr>\n",
       "<tr><td>5716888512235383680</td><td>0.042398836427607396</td><td>0.15774273760573246</td><td>115.10385880956501</td><td>0.08903850741628377</td><td>-18.399861758028973</td><td>0.1031557863667918</td><td>-2.2488119900640493</td><td>0.18803298064610866</td><td>3.6556960038818516</td><td>0.2145673801214416</td><td>18.772159576416016</td><td>60.385723</td><td>17.601272583007812</td><td>125.58181</td><td>18.271421432495117</td><td>825.023</td><td>1.1708869934082031</td><td>0.5007381439208984</td><td>0.6701488494873047</td><td>18.8610992431641</td><td>0.0079330001026392</td><td>18.2682991027832</td><td>0.00847600027918816</td><td>17.9792003631592</td><td>0.0113979997113347</td><td>17.8162002563477</td><td>0.00308699999004602</td><td>-0.12619149543922498</td><td>-0.11543648688541368</td><td>3.3758803428502135</td><td>-2.635293748147235</td></tr>\n",
       "<tr><td>5717179264342566400</td><td>0.04494940409405784</td><td>0.15232524871360134</td><td>115.28270232626647</td><td>0.0813598890748721</td><td>-18.17982231998236</td><td>0.09326843839600313</td><td>-4.826272549307452</td><td>0.17394969453799566</td><td>3.152817779925323</td><td>0.19533820917480793</td><td>18.476722717285156</td><td>73.94697</td><td>17.296300888061523</td><td>164.27692</td><td>17.982465744018555</td><td>905.2205</td><td>1.1804218292236328</td><td>0.49425697326660156</td><td>0.6861648559570312</td><td>18.5611000061035</td><td>0.00507800001651049</td><td>17.9696998596191</td><td>0.00861299969255924</td><td>17.6774005889893</td><td>0.00585500011220574</td><td>17.5377998352051</td><td>0.0065080001950264</td><td>-0.12784860222106753</td><td>-0.1139531917901135</td><td>5.612530588623685</td><td>-1.2724774548585431</td></tr>\n",
       "<tr><td>5718834171083071232</td><td>0.18630911416992119</td><td>0.08648532177028069</td><td>115.97190882725991</td><td>0.04666679406125647</td><td>-16.86914550398814</td><td>0.050611027236631245</td><td>-0.7766657497484148</td><td>0.10022556163760633</td><td>1.7603127769712652</td><td>0.1057769010471151</td><td>17.399930953979492</td><td>241.16924</td><td>16.71757698059082</td><td>307.42203</td><td>17.128801345825195</td><td>1853.4366</td><td>0.6823539733886719</td><td>0.2711296081542969</td><td>0.411224365234375</td><td>17.3780994415283</td><td>0.00627399981021881</td><td>17.1306991577148</td><td>0.00304000009782612</td><td>17.0604000091553</td><td>0.00302299996837974</td><td>17.046199798584</td><td>0.00451500015333295</td><td>-0.12267559450842516</td><td>-0.0925776910425794</td><td>1.3354535796158344</td><td>-1.3828769528247251</td></tr>\n",
       "<tr><td>5718837985007723776</td><td>-0.6034268287460997</td><td>0.8471914500478623</td><td>115.95701529843298</td><td>0.4622587854689712</td><td>-16.79195477816015</td><td>0.39642150464315634</td><td>-3.1439204612600626</td><td>0.8914436170074439</td><td>3.8717785771551236</td><td>0.8037499815722136</td><td>21.333545684814453</td><td>12.137748</td><td>19.420438766479492</td><td>34.30069</td><td>20.42335319519043</td><td>258.17365</td><td>1.913106918334961</td><td>0.9101924896240234</td><td>1.0029144287109375</td><td>21.7075004577637</td><td>0.0498320013284683</td><td>20.5072994232178</td><td>0.0799449980258942</td><td>19.8341999053955</td><td>0.017195999622345</td><td>19.4696006774902</td><td>0.0202399995177984</td><td>-0.12006369203477486</td><td>-0.08946744391469698</td><td>4.282936742578678</td><td>-2.5460628073711047</td></tr>\n",
       "</table>"
      ],
      "text/plain": [
       "<QTable masked=True length=71>\n",
       "         id                 prlx         ...         pmphi2       \n",
       "                            mas          ...        mas / yr      \n",
       "       int64              float64        ...        float64       \n",
       "------------------- -------------------- ... ---------------------\n",
       "2889564322129077376   0.3213177028021399 ...   -0.4719919761842213\n",
       "2889585036754358016  0.04112782798721501 ...    -7.639027705679244\n",
       "2893531497522278528   0.2790765324906976 ...   -2.8264187687608446\n",
       "2894277580582639616 -0.03565140127821627 ...    -1.687229325064532\n",
       "2894301117005191936 -0.31822723307621215 ...    -3.251390885692647\n",
       "2918472063373495936  0.07540631742850838 ...   -0.8769080774380797\n",
       "2918550644092742272   0.6273189056681521 ...    -6.678244300414476\n",
       "2921155417204886656   0.5746644074889986 ...   -2.9216216680014737\n",
       "2921254824222946560                  nan ...                   nan\n",
       "                ...                  ... ...                   ...\n",
       "5617824614809288448                  nan ...                   nan\n",
       "5716319343168601984  0.00891932562417943 ...    -2.195840085641799\n",
       "5716331884473420288  0.22620316092151485 ...   -1.7314226039780316\n",
       "5716342505930123008   1.6799963583547786 ...     4.656356865114376\n",
       "5716482418781721856    0.845175425917354 ... -0.025596093812586308\n",
       "5716500457648588544    -0.29611086187686 ...   -1.3877420505238705\n",
       "5716888512235383680 0.042398836427607396 ...    -2.635293748147235\n",
       "5717179264342566400  0.04494940409405784 ...   -1.2724774548585431\n",
       "5718834171083071232  0.18630911416992119 ...   -1.3828769528247251\n",
       "5718837985007723776  -0.6034268287460997 ...   -2.5460628073711047"
      ]
     },
     "execution_count": 7,
     "metadata": {},
     "output_type": "execute_result"
    }
   ],
   "source": [
    "###########\n",
    "# Custom Calculations\n",
    "\n",
    "# Innermost Level\n",
    "l0cols = \"\"\"\n",
    "--Rotation Matrix\n",
    "{K00}*cos(radians(dec))*cos(radians(ra))+\n",
    "{K01}*cos(radians(dec))*sin(radians(ra))+\n",
    "{K02}*sin(radians(dec)) AS cosphi1cosphi2,\n",
    "\n",
    "{K10}*cos(radians(dec))*cos(radians(ra))+\n",
    "{K11}*cos(radians(dec))*sin(radians(ra))+\n",
    "{K12}*sin(radians(dec)) AS sinphi1cosphi2,\n",
    "\n",
    "{K20}*cos(radians(dec))*cos(radians(ra))+\n",
    "{K21}*cos(radians(dec))*sin(radians(ra))+\n",
    "{K22}*sin(radians(dec)) AS sinphi2,\n",
    "\n",
    "--c1, c2\n",
    "{sindecngp}*cos(radians(dec)){mcosdecngp:+}*sin(radians(dec))*cos(radians(ra{mrangp:+})) as c1,\n",
    "{cosdecngp}*sin(radians(ra{mrangp:+})) as c2\n",
    "\"\"\"\n",
    "\n",
    "# Inner Level\n",
    "l1cols = \"\"\"\n",
    "gaia.cosphi1cosphi2, gaia.sinphi1cosphi2, gaia.sinphi2,\n",
    "gaia.c1, gaia.c2,\n",
    "\n",
    "atan2(sinphi1cosphi2, cosphi1cosphi2) AS phi1,\n",
    "atan2(sinphi2, sinphi1cosphi2 / sin(atan2(sinphi1cosphi2, cosphi1cosphi2))) AS phi2\"\"\"\n",
    "\n",
    "# Inner Level\n",
    "l2cols = \"\"\"\n",
    "gaia.sinphi1cosphi2, gaia.cosphi1cosphi2, gaia.sinphi2,\n",
    "gaia.phi1, gaia.phi2,\n",
    "gaia.c1, gaia.c2,\n",
    "\n",
    "( c1*pmra+c2*pmdec)/cos(phi2) AS pmphi1,\n",
    "(-c2*pmra+c1*pmdec)/cos(phi2) AS pmphi2\"\"\"\n",
    "\n",
    "# Outer Level\n",
    "l3cols = \"\"\"\n",
    "gaia.phi1, gaia.phi2,\n",
    "gaia.pmphi1, gaia.pmphi2\"\"\"\n",
    "\n",
    "###########\n",
    "# Custom Selection\n",
    "\n",
    "l3sel = \"\"\"\n",
    "    phi1 > {phi1min:+}\n",
    "AND phi1 < {phi1max:+}\n",
    "AND phi2 > {phi2min:+}\n",
    "AND phi2 < {phi2max:+}\n",
    "\"\"\"\n",
    "\n",
    "###########\n",
    "# Custom substitutions\n",
    "\n",
    "l3userasdict = {\n",
    "    'K00': .656, 'K01': .755, 'K02': .002,\n",
    "    'K10': .701, 'K11': .469, 'K12': .537,\n",
    "    'K20': .53, 'K21': .458, 'K22': .713,\n",
    "    'sindecngp': -0.925, 'cosdecngp': .382, 'mcosdecngp': -.382,\n",
    "    'mrangp': -0,\n",
    "    'phi1min': -0.175, 'phi1max': 0.175,\n",
    "    'phi2min': -0.175, 'phi2max': 0.175}\n",
    "\n",
    "###########\n",
    "# Making Query\n",
    "df = make_query(\n",
    "    gaia_mags=True,\n",
    "    panstarrs1=True,  # doing a Pan-STARRS1 crossmatch\n",
    "    user_cols=l3cols,\n",
    "    use_AS=True, user_ASdict=l3userasdict,\n",
    "\n",
    "    # Inner Query\n",
    "    FROM=make_query(\n",
    "        gaia_mags=True,\n",
    "        user_cols=l2cols,\n",
    "    \n",
    "        # Inner Query\n",
    "        FROM=make_query(\n",
    "            gaia_mags=True,\n",
    "            user_cols=l1cols,\n",
    "        \n",
    "            # Innermost Query\n",
    "            FROM=make_query(\n",
    "                gaia_mags=True,\n",
    "                inmostquery=True, # telling system this is the innermost level\n",
    "                user_cols=l0cols,\n",
    "                random_index=1e4  # quickly specifying random index\n",
    "            )\n",
    "        )\n",
    "    ),\n",
    "    WHERE=l3sel,\n",
    "    ORDERBY='gaia.source_id',\n",
    "    pprint=True,\n",
    "    # doing query\n",
    "    do_query=True, local=False, units=True\n",
    ")\n",
    "\n",
    "df"
   ]
  }
 ],
 "metadata": {
  "hide_input": false,
  "kernel_info": {
   "name": "python3"
  },
  "kernelspec": {
   "display_name": "Python 3",
   "language": "python",
   "name": "python3"
  },
  "language_info": {
   "codemirror_mode": {
    "name": "ipython",
    "version": 3
   },
   "file_extension": ".py",
   "mimetype": "text/x-python",
   "name": "python",
   "nbconvert_exporter": "python",
   "pygments_lexer": "ipython3",
   "version": "3.6.8"
  },
  "latex_envs": {
   "LaTeX_envs_menu_present": true,
   "autoclose": false,
   "autocomplete": true,
   "bibliofile": "biblio.bib",
   "cite_by": "apalike",
   "current_citInitial": 1,
   "eqLabelWithNumbers": true,
   "eqNumInitial": 1,
   "hotkeys": {
    "equation": "Ctrl-E",
    "itemize": "Ctrl-I"
   },
   "labels_anchors": false,
   "latex_user_defs": false,
   "report_style_numbering": false,
   "user_envs_cfg": false
  },
  "nteract": {
   "version": "0.12.3"
  },
  "toc": {
   "base_numbering": 1,
   "nav_menu": {},
   "number_sections": true,
   "sideBar": true,
   "skip_h1_title": false,
   "title_cell": "Table of Contents",
   "title_sidebar": "Contents",
   "toc_cell": false,
   "toc_position": {},
   "toc_section_display": true,
   "toc_window_display": false
  },
  "varInspector": {
   "cols": {
    "lenName": 16,
    "lenType": 16,
    "lenVar": 40
   },
   "kernels_config": {
    "python": {
     "delete_cmd_postfix": "",
     "delete_cmd_prefix": "del ",
     "library": "var_list.py",
     "varRefreshCmd": "print(var_dic_list())"
    },
    "r": {
     "delete_cmd_postfix": ") ",
     "delete_cmd_prefix": "rm(",
     "library": "var_list.r",
     "varRefreshCmd": "cat(var_dic_list()) "
    }
   },
   "types_to_exclude": [
    "module",
    "function",
    "builtin_function_or_method",
    "instance",
    "_Feature"
   ],
   "window_display": false
  }
 },
 "nbformat": 4,
 "nbformat_minor": 2
}
